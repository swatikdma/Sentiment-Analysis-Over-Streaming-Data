{
  "nbformat": 4,
  "nbformat_minor": 0,
  "metadata": {
    "colab": {
      "name": "Twitter",
      "provenance": [],
      "collapsed_sections": [],
      "toc_visible": true
    },
    "kernelspec": {
      "name": "python3",
      "display_name": "Python 3"
    },
    "language_info": {
      "name": "python"
    }
  },
  "cells": [
    {
      "cell_type": "markdown",
      "metadata": {
        "id": "8piWkn5no9zI"
      },
      "source": [
        "# DDMProject-\n",
        "  ## StreamingDDM App\n",
        "  \n",
        "\n",
        "\n",
        "\n"
      ]
    },
    {
      "cell_type": "markdown",
      "metadata": {
        "id": "CMVLNwNeV8ra"
      },
      "source": [
        "# Keys and Tokens in Twitter API"
      ]
    },
    {
      "cell_type": "markdown",
      "metadata": {
        "id": "uMCc-r92UUiK"
      },
      "source": [
        "**Consumer Keys**\n",
        "---\n",
        "\n",
        "---\n",
        "\n",
        "\n",
        "**API Key** : *B6MpqsuMwkSaIVvWpP0qV4tOl*\n",
        "\n",
        "\n",
        "---\n",
        "\n",
        "\n",
        "**API Secret Key** : *qWsSLYFMvnhpQ33z0vNQyuRQMhgZ57i7GMO5H6aQhCg6gIXynY*\n",
        "\n",
        "\n",
        "---\n",
        "**Authentication Tokens**\n",
        "---\n",
        "**Bearer Token** : *AAAAAAAAAAAAAAAAAAAAAFugOwEAAAAA%2Bt%2FkqMgCmApgww6e%2FJnf0FkfMIk%3Dk7gKqt82NmoKfdwRWBLARLUpdq54zpVTcZeCXR9xITIo0ZD8W4*\n",
        "\n",
        "\n",
        "---\n",
        "\n",
        "**Access Token** : *1386311584063098882-WinlnrIAva0oZtFt9EiLQReQIpPYSw*\n",
        "\n",
        "---\n",
        "**Access Token Secret** : *Z71MwX3WlSm456dUbxXy9x6RIJkcExJCjnHtJWL1PPj0E*\n",
        "\n",
        "---\n"
      ]
    },
    {
      "cell_type": "markdown",
      "metadata": {
        "id": "4nbV3tFu3M8p"
      },
      "source": [
        "#Code"
      ]
    },
    {
      "cell_type": "code",
      "metadata": {
        "id": "aEmzCQqX29J8"
      },
      "source": [
        "import tweepy \n",
        "from tweepy import OAuthHandler # to authenticate Twitter API\n",
        "from tweepy import Stream \n",
        "from tweepy.streaming import StreamListener\n",
        "import socket \n",
        "import json "
      ],
      "execution_count": null,
      "outputs": []
    },
    {
      "cell_type": "code",
      "metadata": {
        "id": "2sNHa8Sg3TBC"
      },
      "source": [
        "# Twitter developer Credentials to connect to twitter account\n",
        "access_token = \"1386311584063098882-WinlnrIAva0oZtFt9EiLQReQIpPYSw\"\n",
        "access_secret = \"Z71MwX3WlSm456dUbxXy9x6RIJkcExJCjnHtJWL1PPj0E\"\n",
        "consumer_key = \"B6MpqsuMwkSaIVvWpP0qV4tOl\"\n",
        "consumer_secret = \"qWsSLYFMvnhpQ33z0vNQyuRQMhgZ57i7GMO5H6aQhCg6gIXynY\""
      ],
      "execution_count": null,
      "outputs": []
    },
    {
      "cell_type": "code",
      "metadata": {
        "id": "7dbVEIEOWGLe"
      },
      "source": [
        "class TweetsListener(StreamListener):\n",
        "    # initialized the constructor\n",
        "    def __init__(self, csocket):\n",
        "        self.client_socket = csocket\n",
        "\n",
        "    def on_data(self, data):\n",
        "        try:\n",
        "            # read the Twitter data which comes as a JSON format\n",
        "            msg = json.loads(data)\n",
        "            \n",
        "            # the 'text' in the JSON file contains the actual tweet.\n",
        "            print(msg['text'].encode('utf-8'))\n",
        "      \n",
        "            # the actual tweet data is sent to the client socket\n",
        "            self.client_socket.send(msg['text'].encode('utf-8'))\n",
        "            return True\n",
        "\n",
        "        except BaseException as e:\n",
        "            # Error handling\n",
        "            #print(\"Ahh! Look what is wrong : %s\" % str(e))\n",
        "            return True\n",
        "\n",
        "    def on_error(self, status):\n",
        "        print(status)\n",
        "        return True\n",
        "\n",
        "\n"
      ],
      "execution_count": null,
      "outputs": []
    },
    {
      "cell_type": "code",
      "metadata": {
        "id": "3rYqxxh9Czfr"
      },
      "source": [
        "def sendData(c_socket):\n",
        "    # authentication\n",
        "    auth = OAuthHandler(consumer_key, consumer_secret)\n",
        "    auth.set_access_token(access_token, access_secret)\n",
        "    # twitter_stream will get the actual live tweet data\n",
        "    twitter_stream = Stream(auth, TweetsListener(c_socket))\n",
        "    # filter the tweet feeds related to \"corona\"\n",
        "    twitter_stream.filter(languages=[\"en\"], track=['India'])"
      ],
      "execution_count": null,
      "outputs": []
    },
    {
      "cell_type": "code",
      "metadata": {
        "id": "b5YbBnayC11p"
      },
      "source": [
        "# create a socket object\n",
        "s = socket.socket()\n",
        "# Get local machine name : host and port\n",
        "host = \"127.0.0.1\"\n",
        "port = 6006\n",
        "# Bind to the port\n",
        "s.bind((host, port))\n",
        "print(\"Listening on port: %s\" % str(port))\n",
        "# Wait and Establish the connection with client.\n",
        "s.listen(5)\n",
        "c, addr = s.accept()\n",
        "print(\"Received request from: \" + str(addr))"
      ],
      "execution_count": null,
      "outputs": []
    },
    {
      "cell_type": "code",
      "metadata": {
        "id": "v4riiL-K3x8u"
      },
      "source": [
        "# Keep the stream data available\n",
        "sendData(c)"
      ],
      "execution_count": null,
      "outputs": []
    }
  ]
}